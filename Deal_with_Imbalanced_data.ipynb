{
  "nbformat": 4,
  "nbformat_minor": 0,
  "metadata": {
    "colab": {
      "provenance": [],
      "authorship_tag": "ABX9TyOILtvZI/XAV5P6vLOr0IPV",
      "include_colab_link": true
    },
    "kernelspec": {
      "name": "python3",
      "display_name": "Python 3"
    },
    "language_info": {
      "name": "python"
    }
  },
  "cells": [
    {
      "cell_type": "markdown",
      "metadata": {
        "id": "view-in-github",
        "colab_type": "text"
      },
      "source": [
        "<a href=\"https://colab.research.google.com/github/Ranjan4Kumar/Deal-with-Imbalance-Data/blob/main/Deal_with_Imbalanced_data.ipynb\" target=\"_parent\"><img src=\"https://colab.research.google.com/assets/colab-badge.svg\" alt=\"Open In Colab\"/></a>"
      ]
    },
    {
      "cell_type": "markdown",
      "source": [
        "## How to Deal With Imbalanced Classification and Regression Data.\n",
        "\n",
        "<b> Data Imbalance: </b> is predominant and inherent in the real world. Data often demonstrates skewed distributions with a long tail.However, most of the machine learning algorithms currently in use were designed around the assumption of a uniform distribution over each target category.(classification)\n",
        "On the other hand, we must not forget that many tasks involve continous targets and even infinite values(regression), where hard boudaries between classes do not exists.\n",
        "\n",
        "\n",
        "<b> There are 3 main approaches to learning from imbalanced data:</b>\n",
        "- 1. Data Approach\n",
        "- 2. Alogrithm approach\n",
        "- 3. hybrid (ensemble) approach,"
      ],
      "metadata": {
        "id": "ld6dMe9-ObIA"
      }
    },
    {
      "cell_type": "code",
      "execution_count": null,
      "metadata": {
        "id": "v-6tUNiGOVyZ"
      },
      "outputs": [],
      "source": []
    }
  ]
}